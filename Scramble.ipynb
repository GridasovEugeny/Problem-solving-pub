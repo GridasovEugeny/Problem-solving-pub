{
 "cells": [
  {
   "cell_type": "markdown",
   "id": "0d29c122-ad0d-464f-a064-b478361d6756",
   "metadata": {},
   "source": [
    "# LeetCode Scramble"
   ]
  },
  {
   "cell_type": "markdown",
   "id": "31a94fe0-0e81-43bc-a088-6b0006b41098",
   "metadata": {},
   "source": [
    "За задачку садился в течении нескольких вечеров по 2ч+-. Кроме контр примеров и некоторых их свойст, ничего интересного не установил. Принял решение сделать не оптимальный алгоритм решающий через поиск по всем возможным вариантам."
   ]
  },
  {
   "cell_type": "markdown",
   "id": "2969d3e3-70ec-4902-9652-e14f071dd8b8",
   "metadata": {},
   "source": [
    "1. Строю древо всех возможных по условию задачи комбинаций.\n",
    "2. Из древа получаю множество уникальных комбинаций.\n",
    "3. Ищу по множеству требуемую комбинацию."
   ]
  },
  {
   "cell_type": "markdown",
   "id": "1c1fca40-12cc-4faa-b74f-e0c4cdf40780",
   "metadata": {},
   "source": [
    "Думаю решение будет очень не оптимальное зато короткое. Далее буду оптимизировать и\\или искать другое решение."
   ]
  },
  {
   "cell_type": "markdown",
   "id": "6c06b991-47dc-4c0a-883a-c3616f818f81",
   "metadata": {},
   "source": [
    "## Решение 1"
   ]
  },
  {
   "cell_type": "code",
   "execution_count": 1,
   "id": "4702aea9-ce1a-4a67-839a-6a73c31ccf4e",
   "metadata": {},
   "outputs": [],
   "source": [
    "import itertools as it"
   ]
  },
  {
   "cell_type": "code",
   "execution_count": 2,
   "id": "0c43f823-bd6a-4cce-87e5-aa3d7f216c0f",
   "metadata": {},
   "outputs": [],
   "source": [
    "def mtl(s):\n",
    "    ts = set([s,])\n",
    "    if(len(s) == 1):\n",
    "        return ts\n",
    "    else:\n",
    "        for i in range(len(s) - 1):\n",
    "            Sa = mtl(s[0:i+1])\n",
    "            Sb = mtl(s[i+1:len(s)])\n",
    "            ts.update({*(''.join(t) for t in it.product(Sa, Sb)), *(''.join(t) for t in it.product(Sb, Sa))})\n",
    "        return ts"
   ]
  },
  {
   "cell_type": "code",
   "execution_count": 3,
   "id": "8a35b68b-f8f3-4635-a247-a020600a608a",
   "metadata": {},
   "outputs": [
    {
     "name": "stdout",
     "output_type": "stream",
     "text": [
      "22 {'abcd', 'bdca', 'cdab', 'dbca', 'bcda', 'adbc', 'bacd', 'acbd', 'cdba', 'dabc', 'bcad', 'acdb', 'dacb', 'cbda', 'adcb', 'dbac', 'badc', 'cbad', 'cabd', 'dcab', 'dcba', 'abdc'}\n"
     ]
    },
    {
     "data": {
      "text/plain": [
       "False"
      ]
     },
     "execution_count": 3,
     "metadata": {},
     "output_type": "execute_result"
    }
   ],
   "source": [
    "t = mtl('abcd')\n",
    "print(len(t), t)\n",
    "'cadb' in t"
   ]
  },
  {
   "cell_type": "markdown",
   "id": "6b85b595-c67b-49e4-9c5e-2f6733c35f94",
   "metadata": {},
   "source": [
    "Первый вариант не прошел по time limit. На вот этих строчках."
   ]
  },
  {
   "cell_type": "code",
   "execution_count": 4,
   "id": "5de4acd4-e6aa-4964-ac7a-69e30c289b01",
   "metadata": {},
   "outputs": [],
   "source": [
    "s1 = \"abcdefghijklmn\"\n",
    "s2 = \"efghijklmncadb\""
   ]
  },
  {
   "cell_type": "code",
   "execution_count": 5,
   "id": "5065c02a-88c0-47da-8cbd-a719af5d9420",
   "metadata": {},
   "outputs": [
    {
     "name": "stdout",
     "output_type": "stream",
     "text": [
      "CPU times: user 2min 50s, sys: 16.8 s, total: 3min 7s\n",
      "Wall time: 3min 7s\n"
     ]
    }
   ],
   "source": [
    "%time t = mtl(s1)"
   ]
  },
  {
   "cell_type": "code",
   "execution_count": 6,
   "id": "222a5c21-10e2-4fec-9054-8c593754bfe0",
   "metadata": {},
   "outputs": [
    {
     "data": {
      "text/plain": [
       "False"
      ]
     },
     "execution_count": 6,
     "metadata": {},
     "output_type": "execute_result"
    }
   ],
   "source": [
    "s2 in t"
   ]
  },
  {
   "cell_type": "markdown",
   "id": "a65ab379-bb24-451c-9437-01ddff2f8d54",
   "metadata": {},
   "source": [
    "У меня на компьютере занимает 3 минуты, сервер давал секунд 20. Видимо такая ветка решений вообще тупиковая по быстродействию."
   ]
  },
  {
   "cell_type": "markdown",
   "id": "0739d83c-504b-4987-8e32-7996bc918c34",
   "metadata": {},
   "source": [
    "## Решение 2"
   ]
  },
  {
   "cell_type": "code",
   "execution_count": null,
   "id": "a0018870-a2a1-44f0-bbec-6e15a1d986f9",
   "metadata": {},
   "outputs": [],
   "source": []
  }
 ],
 "metadata": {
  "kernelspec": {
   "display_name": "Python 3 (ipykernel)",
   "language": "python",
   "name": "python3"
  },
  "language_info": {
   "codemirror_mode": {
    "name": "ipython",
    "version": 3
   },
   "file_extension": ".py",
   "mimetype": "text/x-python",
   "name": "python",
   "nbconvert_exporter": "python",
   "pygments_lexer": "ipython3",
   "version": "3.9.12"
  }
 },
 "nbformat": 4,
 "nbformat_minor": 5
}
