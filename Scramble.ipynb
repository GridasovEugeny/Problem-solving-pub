{
 "cells": [
  {
   "cell_type": "markdown",
   "id": "0d29c122-ad0d-464f-a064-b478361d6756",
   "metadata": {},
   "source": [
    "# LeetCode Scramble"
   ]
  },
  {
   "cell_type": "markdown",
   "id": "31a94fe0-0e81-43bc-a088-6b0006b41098",
   "metadata": {},
   "source": [
    "За задачку садился в течении нескольких вечеров по 2ч+-. Кроме контр примеров и некоторых их свойст, ничего интересного не установил. Принял решение сделать не оптимальный алгоритм решающий через поиск по всем возможным вариантам."
   ]
  },
  {
   "cell_type": "markdown",
   "id": "2969d3e3-70ec-4902-9652-e14f071dd8b8",
   "metadata": {},
   "source": [
    "1. Строю древо всех возможных по условию задачи комбинаций.\n",
    "2. Из древа получаю множество уникальных комбинаций.\n",
    "3. Ищу по множеству требуемую комбинацию."
   ]
  },
  {
   "cell_type": "markdown",
   "id": "1c1fca40-12cc-4faa-b74f-e0c4cdf40780",
   "metadata": {},
   "source": [
    "Думаю решение будет очень не оптимальное зато короткое. Далее буду оптимизировать и\\или искать другое решение."
   ]
  },
  {
   "cell_type": "markdown",
   "id": "6c06b991-47dc-4c0a-883a-c3616f818f81",
   "metadata": {},
   "source": [
    "## Решение 1"
   ]
  },
  {
   "cell_type": "code",
   "execution_count": 9,
   "id": "0c43f823-bd6a-4cce-87e5-aa3d7f216c0f",
   "metadata": {},
   "outputs": [],
   "source": [
    "import itertools as it\n",
    "import math as ma\n",
    "\n",
    "def mtl(s):\n",
    "    ts = set([s,])\n",
    "    if(len(s) == 1):\n",
    "        return ts\n",
    "    else:\n",
    "        for i in range(len(s) - 1):\n",
    "            Sa = mtl(s[0:i+1])\n",
    "            Sb = mtl(s[i+1:len(s)])\n",
    "            ts.update({*(''.join(t) for t in it.product(Sa, Sb)), *(''.join(t) for t in it.product(Sb, Sa))})\n",
    "        return ts"
   ]
  },
  {
   "cell_type": "code",
   "execution_count": 2,
   "id": "8a35b68b-f8f3-4635-a247-a020600a608a",
   "metadata": {},
   "outputs": [
    {
     "name": "stdout",
     "output_type": "stream",
     "text": [
      "22 {'dacb', 'bcda', 'cdab', 'cbad', 'abcd', 'acbd', 'adbc', 'dabc', 'bcad', 'dcba', 'dbca', 'dbac', 'acdb', 'cbda', 'bdca', 'abdc', 'badc', 'dcab', 'adcb', 'cabd', 'cdba', 'bacd'}\n",
      "False\n",
      "False\n"
     ]
    }
   ],
   "source": [
    "t = mtl('abcd')\n",
    "print(len(t), t)\n",
    "print('cadb' in t)\n",
    "print('bdac' in t)"
   ]
  },
  {
   "cell_type": "markdown",
   "id": "ef6a5be2-648f-4aca-8554-c1b8e68c43df",
   "metadata": {},
   "source": [
    "22 комбинации из 24 возможных, отсутсвует 'cadb' и зеркальное 'bdac'. На данном этапе понятно, что можно представить комбинациии букв как комбинации их индексов в исходной строке, тогда недоступные комбинации это комбинации вида - численный интервал (a,d) из N+<|S| переставленный в вид c,a,d,b. И если в комбинации присуствует любой такой интервал \\*c\\*a\\*d\\*b\\* или зеркальный. Для букв встречающихся больше 1 раза, рассмотреть каждую возможную комбинацию индексов. Далее задачу буду решать в этом ключе."
   ]
  },
  {
   "cell_type": "markdown",
   "id": "6b85b595-c67b-49e4-9c5e-2f6733c35f94",
   "metadata": {},
   "source": [
    "Первое решение не прошло по time limit. На вот этих строчках."
   ]
  },
  {
   "cell_type": "code",
   "execution_count": 4,
   "id": "5de4acd4-e6aa-4964-ac7a-69e30c289b01",
   "metadata": {},
   "outputs": [],
   "source": [
    "#s1 = \"abcdefghijklmn\"\n",
    "#s2 = \"efghijklmncadb\"\n",
    "#len(s1)\n",
    "#%time t = mtl(s1)\n",
    "#s2 in t"
   ]
  },
  {
   "cell_type": "code",
   "execution_count": 5,
   "id": "5065c02a-88c0-47da-8cbd-a719af5d9420",
   "metadata": {
    "jupyter": {
     "source_hidden": true
    },
    "tags": []
   },
   "outputs": [
    {
     "name": "stdout",
     "output_type": "stream",
     "text": [
      "CPU times: user 2min 50s, sys: 16.8 s, total: 3min 7s\n",
      "Wall time: 3min 7s\n"
     ]
    }
   ],
   "source": []
  },
  {
   "cell_type": "markdown",
   "id": "a65ab379-bb24-451c-9437-01ddff2f8d54",
   "metadata": {},
   "source": [
    "У меня на компьютере занимает 3 минуты, сервер давал секунд 20. Видимо такая ветка решений вообще тупиковая по быстродействию."
   ]
  },
  {
   "cell_type": "markdown",
   "id": "0739d83c-504b-4987-8e32-7996bc918c34",
   "metadata": {},
   "source": [
    "## Решение 2"
   ]
  },
  {
   "cell_type": "markdown",
   "id": "e774c6ba-2d4b-400e-8f6a-6770a2eba69a",
   "metadata": {},
   "source": [
    "Строю алгоритм формирующий все тупиковые комбинации индексов из строки длинной n (3<n<31), пока оставляю все буквы уникальными. Потом буду решать вопрос с расстановкой индексов в строках s2 когда букве может соответствовать больше 1 индекса прим. 'cadbad', логика такая, если хотя бы одна расстановка индексов достижима то вся комбинация достижима."
   ]
  },
  {
   "cell_type": "code",
   "execution_count": 30,
   "id": "b1a3a147-51e3-439a-80ae-ba36ef899430",
   "metadata": {},
   "outputs": [],
   "source": [
    "#2031 - 3142\n",
    "s1 = 'abcde'\n",
    "s2 = 'cadbe'\n",
    "\n",
    "t = mtl(s1)\n",
    "print(f' \\nВсего возможных комбинаций - {ma.factorial(len(s1))} \\nКол-во достижимых комбинаций - {len(t)}  \\n\\nДостижимые комбинации - {t}')"
   ]
  },
  {
   "cell_type": "code",
   "execution_count": 31,
   "id": "32f0250e-a584-4a77-ae17-c0d94d010e17",
   "metadata": {},
   "outputs": [
    {
     "name": "stdout",
     "output_type": "stream",
     "text": [
      " \n",
      "Всего возможных комбинаций - 120 \n",
      "Кол-во достижимых комбинаций - 90  \n",
      "\n",
      "Достижимые комбинации - {'cdeab', 'bcade', 'edcba', 'acdeb', 'adcbe', 'cabde', 'acbed', 'ecdab', 'cdabe', 'adebc', 'bceda', 'baedc', 'deabc', 'edacb', 'cedab', 'dbcea', 'badec', 'abedc', 'abced', 'baced', 'dceba', 'ecabd', 'ecdba', 'aedcb', 'acdbe', 'ebcda', 'deacb', 'adecb', 'aecbd', 'dceab', 'edcab', 'dbace', 'cdbae', 'bedca', 'edbac', 'dacbe', 'decba', 'eacdb', 'dabce', 'aecdb', 'acedb', 'cabed', 'eabdc', 'cbdae', 'becda', 'ebadc', 'bacde', 'decab', 'eacbd', 'eadcb', 'aedbc', 'badce', 'debca', 'cdeba', 'bdcae', 'edabc', 'acbde', 'abecd', 'ebdca', 'bcaed', 'aebdc', 'dbcae', 'dcabe', 'cedba', 'bdeca', 'baecd', 'ebcad', 'cbdea', 'ecbad', 'abdce', 'cbeda', 'abdec', 'eabcd', 'abcde', 'edbca', 'bdcea', 'cbade', 'aebcd', 'dcbae', 'ebacd', 'eadbc', 'adceb', 'ecbda', 'bcdea', 'cbaed', 'cdbea', 'dcbea', 'bcdae', 'debac', 'adbce'}\n"
     ]
    }
   ],
   "source": [
    "t = mtl(s1)\n",
    "print(f' \\nВсего возможных комбинаций - {ma.factorial(len(s1))} \\nКол-во достижимых комбинаций - {len(t)}  \\n\\nДостижимые комбинации - {t}')"
   ]
  },
  {
   "cell_type": "code",
   "execution_count": 27,
   "id": "ea6ac053-f6b7-41a8-8e58-55ae9b95a503",
   "metadata": {},
   "outputs": [
    {
     "data": {
      "text/plain": [
       "False"
      ]
     },
     "execution_count": 27,
     "metadata": {},
     "output_type": "execute_result"
    }
   ],
   "source": [
    "s2 in t"
   ]
  },
  {
   "cell_type": "markdown",
   "id": "e7041f74-6439-4dd8-b27c-c7676ab97773",
   "metadata": {},
   "source": [
    "На строках длинной 5 алгоритм должен дать 30 недостижимых комбинаций. "
   ]
  },
  {
   "cell_type": "code",
   "execution_count": 43,
   "id": "7399e97b-52c9-4358-a1de-c7adb0d3a332",
   "metadata": {
    "tags": []
   },
   "outputs": [
    {
     "name": "stdout",
     "output_type": "stream",
     "text": [
      " \n",
      "Всего возможных комбинаций - 40320 \n",
      "Кол-во достижимых комбинаций - 8558  \n",
      "\n",
      "Достижимые комбинации - слшиком длинный вывод \n",
      "Кол-во недостижимых комбинаций - 31762\n"
     ]
    }
   ],
   "source": [
    "s1 = 'abcdefgh'\n",
    "s2 = 'cadbefgh'\n",
    "\n",
    "t = mtl(s1)\n",
    "fn = ma.factorial(len(s1))\n",
    "an = len(t)\n",
    "\n",
    "print(f' \\nВсего возможных комбинаций - {fn} \\nКол-во достижимых комбинаций - {an}  \\n\\nДостижимые комбинации - слшиком длинный вывод ')\n",
    "print(f'Кол-во недостижимых комбинаций - {fn - an}')"
   ]
  },
  {
   "cell_type": "markdown",
   "id": "89f352ab-4461-4c1b-8052-3594360e38dd",
   "metadata": {},
   "source": [
    "Кол-во недостижимых комбинаций, очень быстро растет с ростом n при n=5 u=30 при n = 8 u=32000, но мне нужны только те из них что длинной 4 их должно быть не много. Т.к. любая недостижимая комбинация большая 4, должна содержать в себе недостижимую комбинацию длинной 4."
   ]
  },
  {
   "cell_type": "markdown",
   "id": "75a6be77-e30c-438d-82d0-f34b7d454f5e",
   "metadata": {},
   "source": [
    "Кол-во недостижимых комбинаций длинной 4 это кол-во интервалов длинной длинной 4 от 0 до n, где n длинна строки т.е n-4 и еще столько же зеркальных комбинаций (n-4)*2. Это нужно проверить на небольшом множестве."
   ]
  },
  {
   "cell_type": "code",
   "execution_count": 84,
   "id": "f5ee809b-1b9b-4e15-a9b4-7bdd84115fb2",
   "metadata": {},
   "outputs": [
    {
     "name": "stdout",
     "output_type": "stream",
     "text": [
      " \n",
      "Всего возможных комбинаций - 120 \n",
      "Кол-во достижимых комбинаций - 90  \n",
      "\n",
      "Достижимые комбинации - слшиком длинный вывод \n",
      "Кол-во недостижимых комбинаций - 30\n"
     ]
    }
   ],
   "source": [
    "s1 = 'abcde'\n",
    "s2 = 'cadbe'\n",
    "\n",
    "t = mtl(s1)\n",
    "fn = ma.factorial(len(s1))\n",
    "an = len(t)\n",
    "\n",
    "print(f' \\nВсего возможных комбинаций - {fn} \\nКол-во достижимых комбинаций - {an}  \\n\\nДостижимые комбинации - слшиком длинный вывод ')\n",
    "print(f'Кол-во недостижимых комбинаций - {fn - an}')\n",
    "\n",
    "all_comb = {''.join(c) for c in it.permutations([*s1])}\n",
    "unavailable_comb = all_comb.symmetric_difference(t)"
   ]
  },
  {
   "cell_type": "code",
   "execution_count": 91,
   "id": "6d1a6de8-0fcd-40ff-b9d1-ed7ed0a2f4ee",
   "metadata": {},
   "outputs": [
    {
     "data": {
      "text/plain": [
       "{'acebd',\n",
       " 'adbec',\n",
       " 'bcead',\n",
       " 'bdace',\n",
       " 'bdaec',\n",
       " 'bdeac',\n",
       " 'beacd',\n",
       " 'beadc',\n",
       " 'becad',\n",
       " 'bedac',\n",
       " 'cadbe',\n",
       " 'cadeb',\n",
       " 'caebd',\n",
       " 'caedb',\n",
       " 'cbead',\n",
       " 'cdaeb',\n",
       " 'ceabd',\n",
       " 'ceadb',\n",
       " 'cebad',\n",
       " 'cebda',\n",
       " 'dabec',\n",
       " 'daceb',\n",
       " 'daebc',\n",
       " 'daecb',\n",
       " 'dbaec',\n",
       " 'dbeac',\n",
       " 'dbeca',\n",
       " 'dcaeb',\n",
       " 'ebdac',\n",
       " 'ecadb'}"
      ]
     },
     "execution_count": 91,
     "metadata": {},
     "output_type": "execute_result"
    }
   ],
   "source": [
    "#cadb - bdac\n",
    "unavailable_comb"
   ]
  },
  {
   "cell_type": "markdown",
   "id": "b8a9bac7-b0e8-4467-9bf7-e05d2025b149",
   "metadata": {},
   "source": [
    "Для строки длинной 5 получается 2а интервала a,b,c,d и b,c,d,e длинной 4 каждый интервал имеет зеркальный интервал. Всего 4 интервала которые можно спутать переставив символы как \n",
    "0,1,2,3 -> 2,0,3,1 из каждого недостижимого интервала можно получить комбинации добавляя все комбинации остальных свободных букв(индексов) между букв и с концов по схеме \\*2\\*3\\*0\\*1\\*. Получается 20 комбинаций. Не понятно откуда еще 10. Надо проверять."
   ]
  },
  {
   "cell_type": "code",
   "execution_count": 90,
   "id": "08c89826-305a-4156-9416-73ff95c75492",
   "metadata": {},
   "outputs": [
    {
     "data": {
      "text/plain": [
       "30"
      ]
     },
     "execution_count": 90,
     "metadata": {},
     "output_type": "execute_result"
    }
   ],
   "source": [
    "len(unavailable_comb)"
   ]
  },
  {
   "cell_type": "markdown",
   "id": "624e702c-42c9-4bbd-825d-a5fe64771b5b",
   "metadata": {},
   "source": [
    "Лишние 10 строк это новый вид недоступных комбинаций вида 1403(3041) индексы обладают теми же свойствами, что 2031, но не являются числами одного интервала, значит условие про итервал неверное. Принцип формирующий паттерны описанный ранее неполный или неверный. "
   ]
  },
  {
   "cell_type": "code",
   "execution_count": 92,
   "id": "6f22c071-d75c-4d24-aecc-bdcf004a38ee",
   "metadata": {},
   "outputs": [
    {
     "name": "stdout",
     "output_type": "stream",
     "text": [
      " \n",
      "Всего возможных комбинаций - 720 \n",
      "Кол-во достижимых комбинаций - 394  \n",
      "\n",
      "Достижимые комбинации - слшиком длинный вывод \n",
      "Кол-во недостижимых комбинаций - 326\n"
     ]
    }
   ],
   "source": [
    "s1 = 'abcdef'\n",
    "s2 = 'cadbef'\n",
    "\n",
    "t = mtl(s1)\n",
    "fn = ma.factorial(len(s1))\n",
    "an = len(t)\n",
    "\n",
    "print(f' \\nВсего возможных комбинаций - {fn} \\nКол-во достижимых комбинаций - {an}  \\n\\nДостижимые комбинации - слшиком длинный вывод ')\n",
    "print(f'Кол-во недостижимых комбинаций - {fn - an}')\n",
    "\n",
    "all_comb = {''.join(c) for c in it.permutations([*s1])}\n",
    "unavailable_comb = all_comb.symmetric_difference(t)"
   ]
  },
  {
   "cell_type": "markdown",
   "id": "1ad89768-1ac0-4437-abcc-b41f1cce1dc7",
   "metadata": {},
   "source": [
    "При n = 6 кол-во недостижимых комбинаций из 30 становится 326. Считаю по старому паттерну, умножаю кол-во недоступных комб. длинной 4 на n+1 мест куда можно расставить остальные свободные буквы и умножаю на кол-во перестановок свободных букв."
   ]
  },
  {
   "cell_type": "code",
   "execution_count": 99,
   "id": "f1528a9c-8d52-4894-8746-4d3b4657d153",
   "metadata": {},
   "outputs": [
    {
     "name": "stdout",
     "output_type": "stream",
     "text": [
      "84\n"
     ]
    }
   ],
   "source": [
    "n = 6\n",
    "u_4_base = (n-3)*2\n",
    "u_patterns_n = u_4_base*(n+1)*2\n",
    "print(u_patterns_n)"
   ]
  },
  {
   "cell_type": "markdown",
   "id": "e82bbe2e-7689-4797-a3f7-149218629ad9",
   "metadata": {},
   "source": [
    "Результат совершенно далекий от правды . ."
   ]
  },
  {
   "cell_type": "markdown",
   "id": "f00f9cee-1400-46a8-b8c2-9146154fc1f8",
   "metadata": {},
   "source": [
    "Предполагаю, что общее у всех недоступных четверок при длинне строки (3<n<31) это соответсвие паттерну i2>i0>i3>i1, где i это индексы букв во входной строке S1. Прим. S1 = abcde по индексам s = 01234, пример недоступной строки согласно паттерну, сначало второй по величине индекс i0 = 3, затем самый маленький i1= 0, i2= 4, i3=1, получаем 3041, 2031 так же подходит. Новый паттерн лучше рассматриваю решения связанные с ним."
   ]
  },
  {
   "cell_type": "code",
   "execution_count": null,
   "id": "856c660e-947e-40f4-a9c8-fc0ceb0d843f",
   "metadata": {},
   "outputs": [],
   "source": []
  }
 ],
 "metadata": {
  "kernelspec": {
   "display_name": "Python 3 (ipykernel)",
   "language": "python",
   "name": "python3"
  },
  "language_info": {
   "codemirror_mode": {
    "name": "ipython",
    "version": 3
   },
   "file_extension": ".py",
   "mimetype": "text/x-python",
   "name": "python",
   "nbconvert_exporter": "python",
   "pygments_lexer": "ipython3",
   "version": "3.9.12"
  }
 },
 "nbformat": 4,
 "nbformat_minor": 5
}
