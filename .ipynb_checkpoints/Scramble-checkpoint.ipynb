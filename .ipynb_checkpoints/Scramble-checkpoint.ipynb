{
 "cells": [
  {
   "cell_type": "markdown",
   "id": "0d29c122-ad0d-464f-a064-b478361d6756",
   "metadata": {},
   "source": [
    "# LeetCode Scramble"
   ]
  },
  {
   "cell_type": "markdown",
   "id": "31a94fe0-0e81-43bc-a088-6b0006b41098",
   "metadata": {},
   "source": [
    "За задачку садился в течении нескольких вечеров по 2ч+-. Кроме контр примеров и некоторых их свойст, ничего интересного не установил. Принял решение сделать не оптимальный алгоритм решающий через поиск по всем возможным вариантам."
   ]
  },
  {
   "cell_type": "markdown",
   "id": "2969d3e3-70ec-4902-9652-e14f071dd8b8",
   "metadata": {},
   "source": [
    "1. Строю древо всех возможных по условию задачи комбинаций.\n",
    "2. Из древа получаю множество уникальных комбинаций.\n",
    "3. Ищу по множеству требуемую комбинацию."
   ]
  },
  {
   "cell_type": "markdown",
   "id": "1c1fca40-12cc-4faa-b74f-e0c4cdf40780",
   "metadata": {},
   "source": [
    "Думаю решение будет очень не оптимальное зато короткое. Далее буду оптимизировать и\\или искать другое решение."
   ]
  },
  {
   "cell_type": "markdown",
   "id": "6c06b991-47dc-4c0a-883a-c3616f818f81",
   "metadata": {},
   "source": [
    "## Решение 1: Поиск $S_2$ среди всех доступных комбинаций. "
   ]
  },
  {
   "cell_type": "markdown",
   "id": "7a5faff9-fc5c-4f18-bf2b-dc2b9386359b",
   "metadata": {},
   "source": [
    "Рекурсивно формирую множество всех уникальных комбинаций, следуя алгоритму описанному в задании. В результате рекурсии образуется (n-1)! нод бинарного древа, на каждой ветви которого находятся все возможные комбинации текущего разбиения. Дойдя до единичных эллементов, каждая пара веток передает свои значения наверх, где из них формируется множество уникальных комбинаций предыщих ветвей с помощью декартова произведения множеств левой ветви на правую и правой ветви на левую, которое в свою очередь снова передается на верхний шаг рекурсии(древа)."
   ]
  },
  {
   "cell_type": "code",
   "execution_count": 4,
   "id": "0c43f823-bd6a-4cce-87e5-aa3d7f216c0f",
   "metadata": {},
   "outputs": [],
   "source": [
    "import itertools as it\n",
    "import collections\n",
    "import math as ma\n",
    "import re\n",
    "import numpy as np\n",
    "\n",
    "#Очень не оптимально, просто чтобы оценить задачу\n",
    "def mtl(s):\n",
    "    ts = set([s,])\n",
    "    if(len(s) == 1):\n",
    "        return ts\n",
    "    else:\n",
    "        for i in range(len(s) - 1):\n",
    "            Sa = mtl(s[0:i+1])\n",
    "            Sb = mtl(s[i+1:len(s)])\n",
    "            ts.update({*(''.join(t) for t in it.product(Sa, Sb)), *(''.join(t) for t in it.product(Sb, Sa))})\n",
    "        return ts"
   ]
  },
  {
   "cell_type": "code",
   "execution_count": 5,
   "id": "8a35b68b-f8f3-4635-a247-a020600a608a",
   "metadata": {},
   "outputs": [
    {
     "name": "stdout",
     "output_type": "stream",
     "text": [
      "22 {'cbad', 'bcda', 'badc', 'bcad', 'cdba', 'abcd', 'bdca', 'dcba', 'bacd', 'dcab', 'dbca', 'dabc', 'cdab', 'dbac', 'acbd', 'adcb', 'cabd', 'adbc', 'cbda', 'dacb', 'abdc', 'acdb'}\n",
      "False\n",
      "False\n"
     ]
    }
   ],
   "source": [
    "t = mtl('abcd')\n",
    "print(len(t), t)\n",
    "print('cadb' in t)\n",
    "print('bdac' in t)"
   ]
  },
  {
   "cell_type": "markdown",
   "id": "ef6a5be2-648f-4aca-8554-c1b8e68c43df",
   "metadata": {},
   "source": [
    "22 комбинации из 24 возможных, отсутсвует $cadb$ и зеркальное $bdac$. На данном этапе понятно, что можно представить комбинациии букв как комбинации их индексов в исходной строке, тогда недоступные комбинации это комбинации вида - численный интервал $(a,d)$ из $N+<|S|$ переставленный в вид $c,a,d,b$. И если в комбинации присуствует любой такой интервал с маской  $*c*a*d*b*$ или зеркальный. Для букв встречающихся больше 1 раза, рассмотреть каждую возможную комбинацию индексов. Далее задачу буду решать в этом ключе."
   ]
  },
  {
   "cell_type": "markdown",
   "id": "6b85b595-c67b-49e4-9c5e-2f6733c35f94",
   "metadata": {},
   "source": [
    "Первое решение не прошло по time limit. На вот этих строчках."
   ]
  },
  {
   "cell_type": "code",
   "execution_count": 6,
   "id": "5de4acd4-e6aa-4964-ac7a-69e30c289b01",
   "metadata": {},
   "outputs": [],
   "source": [
    "#s1 = \"abcdefghijklmn\"\n",
    "#s2 = \"efghijklmncadb\"\n",
    "#len(s1)\n",
    "#%time t = mtl(s1)\n",
    "#s2 in t"
   ]
  },
  {
   "cell_type": "code",
   "execution_count": null,
   "id": "5065c02a-88c0-47da-8cbd-a719af5d9420",
   "metadata": {
    "jupyter": {
     "source_hidden": true
    },
    "tags": []
   },
   "outputs": [],
   "source": []
  },
  {
   "cell_type": "markdown",
   "id": "a65ab379-bb24-451c-9437-01ddff2f8d54",
   "metadata": {},
   "source": [
    "У меня на компьютере занимает 3 минуты, сервер давал секунд 20. Видимо такая ветка решений вообще тупиковая по быстродействию."
   ]
  },
  {
   "cell_type": "markdown",
   "id": "0739d83c-504b-4987-8e32-7996bc918c34",
   "metadata": {},
   "source": [
    "## Решение 2: Поиск в  𝑆2 недоступных комбинаций, сгенерированных по паттерну."
   ]
  },
  {
   "cell_type": "markdown",
   "id": "e774c6ba-2d4b-400e-8f6a-6770a2eba69a",
   "metadata": {},
   "source": [
    "Строю алгоритм формирующий все тупиковые комбинации индексов из строки длинной $n$ $(3<n<31)$, пока оставляю все буквы уникальными. Потом буду решать вопрос с расстановкой индексов в строках $S_2$ когда букве может соответствовать больше 1 индекса прим. $cadbad$, логика такая, если хотя бы одна расстановка индексов достижима то вся комбинация достижима."
   ]
  },
  {
   "cell_type": "code",
   "execution_count": 7,
   "id": "b1a3a147-51e3-439a-80ae-ba36ef899430",
   "metadata": {},
   "outputs": [
    {
     "name": "stdout",
     "output_type": "stream",
     "text": [
      " \n",
      "Всего возможных комбинаций - 120 \n",
      "Кол-во достижимых комбинаций - 90  \n",
      "\n",
      "Достижимые комбинации - {'acbed', 'ebacd', 'eabdc', 'acbde', 'dcbea', 'dcbae', 'acedb', 'baecd', 'deabc', 'dacbe', 'bedca', 'bcade', 'ebcad', 'eadcb', 'debca', 'ecabd', 'eacdb', 'edbca', 'cbdae', 'eacbd', 'deacb', 'adcbe', 'ecdab', 'cbaed', 'decab', 'edacb', 'cdeba', 'baced', 'abced', 'aedbc', 'adebc', 'becda', 'bdcae', 'decba', 'aedcb', 'ecbad', 'adceb', 'bcdae', 'aecdb', 'edbac', 'abecd', 'dbcae', 'cbdea', 'ebadc', 'bacde', 'abdec', 'cedab', 'adecb', 'dceab', 'cdabe', 'eadbc', 'ecdba', 'cbade', 'aebcd', 'dabce', 'adbce', 'dbcea', 'edcba', 'cedba', 'bcdea', 'cdbea', 'edabc', 'eabcd', 'bcaed', 'aecbd', 'badce', 'edcab', 'cbeda', 'cdbae', 'badec', 'dbace', 'dcabe', 'aebdc', 'baedc', 'acdeb', 'debac', 'ecbda', 'cabed', 'cabde', 'bdeca', 'abedc', 'bdcea', 'ebcda', 'ebdca', 'cdeab', 'acdbe', 'abdce', 'abcde', 'dceba', 'bceda'}\n"
     ]
    }
   ],
   "source": [
    "#2031 - 3142\n",
    "s1 = 'abcde'\n",
    "s2 = 'cadbe'\n",
    "\n",
    "t = mtl(s1)\n",
    "print(f' \\nВсего возможных комбинаций - {ma.factorial(len(s1))} \\nКол-во достижимых комбинаций - {len(t)}  \\n\\nДостижимые комбинации - {t}')"
   ]
  },
  {
   "cell_type": "code",
   "execution_count": 8,
   "id": "ea6ac053-f6b7-41a8-8e58-55ae9b95a503",
   "metadata": {},
   "outputs": [
    {
     "data": {
      "text/plain": [
       "False"
      ]
     },
     "execution_count": 8,
     "metadata": {},
     "output_type": "execute_result"
    }
   ],
   "source": [
    "s2 in t"
   ]
  },
  {
   "cell_type": "markdown",
   "id": "e7041f74-6439-4dd8-b27c-c7676ab97773",
   "metadata": {},
   "source": [
    "На строках длинной 5 алгоритм должен дать 30 недостижимых комбинаций. "
   ]
  },
  {
   "cell_type": "code",
   "execution_count": 9,
   "id": "7399e97b-52c9-4358-a1de-c7adb0d3a332",
   "metadata": {
    "tags": []
   },
   "outputs": [
    {
     "name": "stdout",
     "output_type": "stream",
     "text": [
      " \n",
      "Всего возможных комбинаций - 40320 \n",
      "Кол-во достижимых комбинаций - 8558  \n",
      "\n",
      "Достижимые комбинации - слшиком длинный вывод \n",
      "Кол-во недостижимых комбинаций - 31762\n"
     ]
    }
   ],
   "source": [
    "s1 = 'abcdefgh'\n",
    "s2 = 'cadbefgh'\n",
    "\n",
    "t = mtl(s1)\n",
    "fn = ma.factorial(len(s1))\n",
    "an = len(t)\n",
    "\n",
    "print(f' \\nВсего возможных комбинаций - {fn} \\nКол-во достижимых комбинаций - {an}  \\n\\nДостижимые комбинации - слшиком длинный вывод ')\n",
    "print(f'Кол-во недостижимых комбинаций - {fn - an}')"
   ]
  },
  {
   "cell_type": "markdown",
   "id": "89f352ab-4461-4c1b-8052-3594360e38dd",
   "metadata": {},
   "source": [
    "Кол-во недостижимых комбинаций, очень быстро растет с ростом n при $n=5$ $u=30$ при $n=8$ $u=32000$, но мне нужны только те из них что длинной 4 их должно быть не много. Т.к. любая недостижимая комбинация большая 4, должна содержать в себе недостижимую комбинацию длинной 4."
   ]
  },
  {
   "cell_type": "markdown",
   "id": "75a6be77-e30c-438d-82d0-f34b7d454f5e",
   "metadata": {},
   "source": [
    "Кол-во недостижимых комбинаций длинной $4$ это кол-во интервалов длинной длинной $4$ от $0$ до $n$, где n длинна строки т.е $n-4$ и еще столько же зеркальных комбинаций $(n-4)*2$. Это нужно проверить на небольшом множестве."
   ]
  },
  {
   "cell_type": "code",
   "execution_count": 10,
   "id": "f5ee809b-1b9b-4e15-a9b4-7bdd84115fb2",
   "metadata": {},
   "outputs": [
    {
     "name": "stdout",
     "output_type": "stream",
     "text": [
      " \n",
      "Всего возможных комбинаций - 120 \n",
      "Кол-во достижимых комбинаций - 90  \n",
      "\n",
      "Достижимые комбинации - слшиком длинный вывод \n",
      "Кол-во недостижимых комбинаций - 30\n"
     ]
    }
   ],
   "source": [
    "s1 = 'abcde'\n",
    "s2 = 'cadbe'\n",
    "\n",
    "t = mtl(s1)\n",
    "fn = ma.factorial(len(s1))\n",
    "an = len(t)\n",
    "\n",
    "print(f' \\nВсего возможных комбинаций - {fn} \\nКол-во достижимых комбинаций - {an}  \\n\\nДостижимые комбинации - слшиком длинный вывод ')\n",
    "print(f'Кол-во недостижимых комбинаций - {fn - an}')\n",
    "\n",
    "all_comb = {''.join(c) for c in it.permutations([*s1])}\n",
    "unavailable_comb = all_comb.symmetric_difference(t)"
   ]
  },
  {
   "cell_type": "code",
   "execution_count": 11,
   "id": "6d1a6de8-0fcd-40ff-b9d1-ed7ed0a2f4ee",
   "metadata": {},
   "outputs": [
    {
     "data": {
      "text/plain": [
       "{'acebd',\n",
       " 'adbec',\n",
       " 'bcead',\n",
       " 'bdace',\n",
       " 'bdaec',\n",
       " 'bdeac',\n",
       " 'beacd',\n",
       " 'beadc',\n",
       " 'becad',\n",
       " 'bedac',\n",
       " 'cadbe',\n",
       " 'cadeb',\n",
       " 'caebd',\n",
       " 'caedb',\n",
       " 'cbead',\n",
       " 'cdaeb',\n",
       " 'ceabd',\n",
       " 'ceadb',\n",
       " 'cebad',\n",
       " 'cebda',\n",
       " 'dabec',\n",
       " 'daceb',\n",
       " 'daebc',\n",
       " 'daecb',\n",
       " 'dbaec',\n",
       " 'dbeac',\n",
       " 'dbeca',\n",
       " 'dcaeb',\n",
       " 'ebdac',\n",
       " 'ecadb'}"
      ]
     },
     "execution_count": 11,
     "metadata": {},
     "output_type": "execute_result"
    }
   ],
   "source": [
    "#cadb - bdac\n",
    "unavailable_comb"
   ]
  },
  {
   "cell_type": "markdown",
   "id": "b8a9bac7-b0e8-4467-9bf7-e05d2025b149",
   "metadata": {},
   "source": [
    "Для строки длинной $5$ получается $2$ интервала $a,b,c,d$ и $b,c,d,e$ длинной $4$ каждый интервал имеет зеркальный интервал. Всего $4$ интервала которые можно спутать переставив символы как \n",
    "$0,1,2,3$ -> $2,0,3,1$ из каждого недостижимого интервала можно получить комбинации добавляя все комбинации остальных свободных букв(индексов) между букв и с концов по схеме $*2*3*0*1*$. Получается $20$ комбинаций. Не понятно откуда еще $10$. Надо проверять."
   ]
  },
  {
   "cell_type": "code",
   "execution_count": 12,
   "id": "08c89826-305a-4156-9416-73ff95c75492",
   "metadata": {},
   "outputs": [
    {
     "data": {
      "text/plain": [
       "30"
      ]
     },
     "execution_count": 12,
     "metadata": {},
     "output_type": "execute_result"
    }
   ],
   "source": [
    "len(unavailable_comb)"
   ]
  },
  {
   "cell_type": "markdown",
   "id": "624e702c-42c9-4bbd-825d-a5fe64771b5b",
   "metadata": {},
   "source": [
    "Лишние 10 строк это новый вид недоступных комбинаций вида $1403(3041)$ индексы обладают теми же свойствами, что $2031$, но не являются числами одного интервала, значит условие про итервал неверное. Принцип формирующий паттерны описанный ранее неполный или неверный. "
   ]
  },
  {
   "cell_type": "code",
   "execution_count": 13,
   "id": "6f22c071-d75c-4d24-aecc-bdcf004a38ee",
   "metadata": {},
   "outputs": [
    {
     "name": "stdout",
     "output_type": "stream",
     "text": [
      " \n",
      "Всего возможных комбинаций - 720 \n",
      "Кол-во достижимых комбинаций - 394  \n",
      "\n",
      "Достижимые комбинации - слшиком длинный вывод \n",
      "Кол-во недостижимых комбинаций - 326\n"
     ]
    }
   ],
   "source": [
    "s1 = 'abcdef'\n",
    "s2 = 'cadbef'\n",
    "\n",
    "t = mtl(s1)\n",
    "fn = ma.factorial(len(s1))\n",
    "an = len(t)\n",
    "\n",
    "print(f' \\nВсего возможных комбинаций - {fn} \\nКол-во достижимых комбинаций - {an}  \\n\\nДостижимые комбинации - слшиком длинный вывод ')\n",
    "print(f'Кол-во недостижимых комбинаций - {fn - an}')\n",
    "\n",
    "all_comb = {''.join(c) for c in it.permutations([*s1])}\n",
    "unavailable_comb = all_comb.symmetric_difference(t)"
   ]
  },
  {
   "cell_type": "markdown",
   "id": "1ad89768-1ac0-4437-abcc-b41f1cce1dc7",
   "metadata": {},
   "source": [
    "При $n=6$ кол-во недостижимых комбинаций из $30$ становится $326$. Считаю по старому паттерну, умножаю кол-во недоступных комб. длинной $4$ на $n+1$ мест куда можно расставить остальные свободные буквы и умножаю на кол-во перестановок свободных букв."
   ]
  },
  {
   "cell_type": "code",
   "execution_count": 14,
   "id": "f1528a9c-8d52-4894-8746-4d3b4657d153",
   "metadata": {},
   "outputs": [
    {
     "name": "stdout",
     "output_type": "stream",
     "text": [
      "480\n"
     ]
    }
   ],
   "source": [
    "n = 6\n",
    "u_4_base = 4*ma.factorial(n-3)\n",
    "u_patterns_n = u_4_base*2*ma.factorial(n-4)*5\n",
    "print(u_patterns_n)"
   ]
  },
  {
   "cell_type": "markdown",
   "id": "e82bbe2e-7689-4797-a3f7-149218629ad9",
   "metadata": {},
   "source": [
    "Результат совершенно далекий от правды, видимо не учивтываю какие то пересечения в формуле. На данный момент подсчет не имеет значения, потому что генерация всех недоступных комбинаций выглядит слишком времязатратной."
   ]
  },
  {
   "cell_type": "markdown",
   "id": "f00f9cee-1400-46a8-b8c2-9146154fc1f8",
   "metadata": {},
   "source": [
    "Предполагаю, что общее у всех недоступных четверок при длинне строки $(3<n<31)$ это соответсвие паттерну $i_2>i_0>i_3>i_1$,где $i_n$ это число стоящее на позиции с индексом n. Прим. $S_1$ = $abcde$ по индексам $S_1^i = 01234$, пример недоступной строки согласно паттерну, сначало второй по величине индекс $i_0 = 3$, затем самый маленький $i_1= 0, i_2= 4, i_3=1$, получаем $3041, 2031$ так же подходит. Решение буду строить на поиске такого патерна в строке $S_2$. Принял решение на основании того, что недоступных комбинаций после $n=6$, становится больше чем доступных и поиск $S_2$ среди недоступных будет еше неоптимальнее. Так генерации всех недоступны комбинаций затратит много времени. Т.к это противоречит тому, что полагалось в начале решения 2. Это решение будет под номером 3."
   ]
  },
  {
   "cell_type": "markdown",
   "id": "fb4a2e16-1f72-4712-a2b5-306c5cce38c9",
   "metadata": {},
   "source": [
    "## Решение 3: Поиск паттерна $i_2>i_0>i_3>i_1$ в строке $S_2$"
   ]
  },
  {
   "cell_type": "markdown",
   "id": "b92ceac0-4124-4e65-844c-e898fa2c4e2e",
   "metadata": {},
   "source": [
    "По условию максимальная длинна строки 30. Такой поиск это проверка для каждого символа наличия условий из паттерна. Даже при грубом подсчете $O(n) = 30*30*op\\_count*letters\\_variance\\_count$ выглядит неплохо относительно предыдущих решений."
   ]
  },
  {
   "cell_type": "markdown",
   "id": "82a85f77-f490-4322-b5df-0c02baadf823",
   "metadata": {},
   "source": [
    "### Алгоритм проверки паттерна"
   ]
  },
  {
   "cell_type": "code",
   "execution_count": 15,
   "id": "ca393f2f-d886-4290-af31-701dc9a8bc5b",
   "metadata": {
    "tags": []
   },
   "outputs": [],
   "source": [
    "def is_unavailable(s:list):\n",
    "    n=len(s)\n",
    "    for i in range(n):\n",
    "        if s[i] - 1 > 0: #Есть раcстояние для i1, i0\n",
    "            for j in range(i+1,n):\n",
    "                if s[i] - s[j] > 1: # Есть раcстояние для  i3\n",
    "                    for k in range(j+1,n):\n",
    "                        if s[k] > s[i]: # i2 Больше i0.\n",
    "                            for h in range(k+1,n):\n",
    "                                if s[h] > s[j] and s[h] < s[i]: # i3 > i1\n",
    "                                    return True # Одного такого паттерна достаточно, что вся комбинация оказалась недостижима  \n",
    "    s.reverse()\n",
    "    for i in range(n):\n",
    "        if s[i] - 1 > 0: #Есть раcстояние для i1, i0\n",
    "            for j in range(i+1,n):\n",
    "                if s[i] - s[j] > 1: # Есть раcстояние для  i3\n",
    "                    for k in range(j+1,n):\n",
    "                        if s[k] > s[i]: # i2 Больше i0.\n",
    "                            for h in range(k+1,n):\n",
    "                                if s[h] > s[j] and s[h] < s[i]: # i3 > i1\n",
    "                                    return True # Одного такого паттерна достаточно, что вся комбинация оказалась недостижима \n",
    "    return False"
   ]
  },
  {
   "cell_type": "code",
   "execution_count": 16,
   "id": "3d0c8600-5908-4349-8707-f21d4c41b77f",
   "metadata": {
    "tags": []
   },
   "outputs": [
    {
     "ename": "NameError",
     "evalue": "name 'is_unavailable_debug' is not defined",
     "output_type": "error",
     "traceback": [
      "\u001b[0;31m---------------------------------------------------------------------------\u001b[0m",
      "\u001b[0;31mNameError\u001b[0m                                 Traceback (most recent call last)",
      "Input \u001b[0;32mIn [16]\u001b[0m, in \u001b[0;36m<cell line: 4>\u001b[0;34m()\u001b[0m\n\u001b[1;32m      1\u001b[0m t \u001b[38;5;241m=\u001b[39m [\u001b[38;5;241m0\u001b[39m,\u001b[38;5;241m1\u001b[39m,\u001b[38;5;241m2\u001b[39m,\u001b[38;5;241m3\u001b[39m,\u001b[38;5;241m4\u001b[39m]\n\u001b[1;32m      2\u001b[0m s \u001b[38;5;241m=\u001b[39m [\u001b[38;5;241m1\u001b[39m,\u001b[38;5;241m0\u001b[39m,\u001b[38;5;241m2\u001b[39m,\u001b[38;5;241m3\u001b[39m,\u001b[38;5;241m4\u001b[39m]\n\u001b[0;32m----> 4\u001b[0m \u001b[38;5;28mprint\u001b[39m(\u001b[43mis_unavailable_debug\u001b[49m(s))\n\u001b[1;32m      5\u001b[0m \u001b[38;5;28mprint\u001b[39m(is_unavailable_debug(t))\n",
      "\u001b[0;31mNameError\u001b[0m: name 'is_unavailable_debug' is not defined"
     ]
    }
   ],
   "source": [
    "t = [0,1,2,3,4]\n",
    "s = [1,0,2,3,4]\n",
    "\n",
    "print(is_unavailable_debug(s))\n",
    "print(is_unavailable_debug(t))"
   ]
  },
  {
   "cell_type": "markdown",
   "id": "dffbee4b-52e0-46b0-9b71-4c2c789d9ed9",
   "metadata": {},
   "source": [
    "Теперь нужно написать алгорит конвертации из букв в индексы и подсчета вариантов расстановки индкесов для одинаковых букв. Затем проверить алгоритмы на имеющихся множествах."
   ]
  },
  {
   "cell_type": "code",
   "execution_count": null,
   "id": "86ebe72b-4905-4824-99cb-b6c511e2626d",
   "metadata": {},
   "outputs": [],
   "source": [
    "def to_s1_index(s1:str, s2:str)->list:\n",
    "    index_dict = dict(zip([*s1],range(len(s1))))\n",
    "    s = list(map(lambda x: index_dict[x], [*s2]))\n",
    "    return s"
   ]
  },
  {
   "cell_type": "code",
   "execution_count": null,
   "id": "22bd301f-3e25-4e95-bc78-49396626bbc9",
   "metadata": {},
   "outputs": [],
   "source": [
    "s1 = 'great'\n",
    "s2 = 'rgeat'\n",
    "\n",
    "print(to_s1_index(s1,s2))"
   ]
  },
  {
   "cell_type": "markdown",
   "id": "b265cc11-d4f0-446e-9701-e53d3fea3748",
   "metadata": {},
   "source": [
    "Далее тестирую алгоритм решения, беру множество всех доступных комбинаций и для них он даст False и множество всех недоступных, для них True."
   ]
  },
  {
   "cell_type": "code",
   "execution_count": null,
   "id": "98f499a4-bed0-4fcd-88d3-6f16ee23ff00",
   "metadata": {},
   "outputs": [],
   "source": [
    "s1 = 'abcdef'\n",
    "\n",
    "all_comb = {''.join(c) for c in it.permutations([*s1])}\n",
    "available_comb = mtl(s1)\n",
    "unavailable_comb = all_comb.symmetric_difference(available_comb)"
   ]
  },
  {
   "cell_type": "code",
   "execution_count": null,
   "id": "f8d7da1d-6841-4b15-a7a7-f1f37ec62fc8",
   "metadata": {},
   "outputs": [],
   "source": [
    "a_res = [(to_s1_index(s1, comb), is_unavailable(to_s1_index(s1, comb))) for comb in available_comb]\n",
    "ua_res = [(to_s1_index(s1, comb), is_unavailable(to_s1_index(s1, comb))) for comb in unavailable_comb]"
   ]
  },
  {
   "cell_type": "markdown",
   "id": "02cf5e08-432e-4a6d-a25f-16c60df71269",
   "metadata": {},
   "source": [
    "Среди доступных обноружились недоступные, это не верно, буду отлаживать."
   ]
  },
  {
   "cell_type": "code",
   "execution_count": null,
   "id": "8ca3c4fe-5e4a-4813-b2f6-efd699059eec",
   "metadata": {},
   "outputs": [],
   "source": [
    "tuple(filter(lambda x: x[1] == True , a_res))"
   ]
  },
  {
   "cell_type": "code",
   "execution_count": null,
   "id": "ebc5bdfb-0877-4e98-972c-3e2b43d566cf",
   "metadata": {},
   "outputs": [],
   "source": [
    "is_unavailable_debug([2, 0, 1, 3, 4])"
   ]
  },
  {
   "cell_type": "markdown",
   "id": "116cbc93-7c94-47ec-a3f8-df89fee0cad4",
   "metadata": {},
   "source": [
    "Все недоступные, недоступны это верно."
   ]
  },
  {
   "cell_type": "code",
   "execution_count": null,
   "id": "0c2df854-6ce8-462c-b85e-f5f781d5f04f",
   "metadata": {},
   "outputs": [],
   "source": [
    "all(ua_res)"
   ]
  },
  {
   "cell_type": "markdown",
   "id": "6413ca6c-7e42-4bb7-8778-5b8804677aac",
   "metadata": {},
   "source": [
    "### Алгоритм перебора вариантов индексов"
   ]
  },
  {
   "cell_type": "markdown",
   "id": "896a576d-e300-4edc-9350-b54983eeabf8",
   "metadata": {},
   "source": [
    "Остался вопрос со строками вида $aaaabcd$. Нужно переписать алгоритм, чтобы он учитывал вариативность возможных индексов и проверял доступность всех вариантов. Если хоть один доступен, то комбинацию считать доступной."
   ]
  },
  {
   "cell_type": "code",
   "execution_count": null,
   "id": "10f6bd40-d3ee-4980-9e95-b4182060a247",
   "metadata": {},
   "outputs": [],
   "source": [
    "s1,s2 = 'aabbc', 'bacab'\n",
    "\n",
    "letter = [*s1]\n",
    "index_dict = dict(zip(letter, [list() for i in range(len(s1))]))# Делаю словарь вида букав - лист с индексами.\n",
    "\n",
    "for idx, item in enumerate(letter):# Заполняю индексами\n",
    "    index_dict[item].append(idx)"
   ]
  },
  {
   "cell_type": "code",
   "execution_count": null,
   "id": "3ada0433-ce7a-49d7-87a0-bdb225a22144",
   "metadata": {},
   "outputs": [],
   "source": [
    "res = it.product(*[it.permutations(v) for v in index_dict.values()])"
   ]
  },
  {
   "cell_type": "markdown",
   "id": "660dc219-ecb7-43ad-b144-61269e4841a5",
   "metadata": {},
   "source": [
    "Получаю произведение всех перестановок возможных индексов для каждой буквы, таким образом получаю все возможные словари для преобразования $S_2$. В получишейся матрице n на m. Каждой строке будет соответствовать уникальная комбинация расстановки индексов в $S_2$. Остается только сгенерировать каждую расстанову по строке и проверить на доступность из $S1$"
   ]
  },
  {
   "cell_type": "code",
   "execution_count": null,
   "id": "9897947f-aaaf-4ad0-9aaf-55a0cf6467be",
   "metadata": {
    "tags": []
   },
   "outputs": [],
   "source": [
    "index_order = dict()# Нужен для map, что бы обращатся к нужному столбу, res.\n",
    "letter_curent_index = dict()\n",
    "n = 0\n",
    "for idx, item in enumerate(letter):\n",
    "    if item not in index_order.keys():\n",
    "        index_order[item] = n\n",
    "        letter_curent_index[item] = 0\n",
    "        n+=1"
   ]
  },
  {
   "cell_type": "code",
   "execution_count": null,
   "id": "3133868e-d74c-4f92-8128-2bc10b759607",
   "metadata": {},
   "outputs": [],
   "source": [
    "index_order # Порядок букв, по столбцам матрицы res."
   ]
  },
  {
   "cell_type": "code",
   "execution_count": null,
   "id": "d465aa77-92ca-4beb-9e02-d3cb90d539b6",
   "metadata": {},
   "outputs": [],
   "source": [
    "letter_curent_index# Индекс текущего варианта индекса для каждой буквы"
   ]
  },
  {
   "cell_type": "code",
   "execution_count": null,
   "id": "c01e14fc-7371-4570-b303-c6e02394c9e9",
   "metadata": {},
   "outputs": [],
   "source": [
    "#Мягко говоря, не лучший алгоритм, но чтобы проверить решение пойдет.\n",
    "s2_index_variance = list()\n",
    "for r in res:\n",
    "    tmp = letter_curent_index.copy()\n",
    "    tmp_s2 = list()\n",
    "    for l in [*s2]: \n",
    "        tmp_s2.append(r[index_order[l]][tmp[l]])\n",
    "        tmp[l]+=1\n",
    "    s2_index_variance.append(tmp_s2)"
   ]
  },
  {
   "cell_type": "code",
   "execution_count": null,
   "id": "c1012e35-b9f7-4b56-9050-5a57f136de62",
   "metadata": {},
   "outputs": [],
   "source": [
    "s2_index_variance# Работает верно."
   ]
  },
  {
   "cell_type": "markdown",
   "id": "9386d032-019a-4c61-b745-f8f026143114",
   "metadata": {},
   "source": [
    "### Алгоритм отсева очевидных решений."
   ]
  },
  {
   "cell_type": "code",
   "execution_count": null,
   "id": "c7e37a76-d70e-4cab-b229-cb33552be9ae",
   "metadata": {},
   "outputs": [],
   "source": [
    "def is_valid(s1,s2):\n",
    "    return collections.Counter(s1) == collections.Counter(s2)"
   ]
  },
  {
   "cell_type": "code",
   "execution_count": null,
   "id": "8b44ffcc-8f17-4d53-9b31-a620199c7efa",
   "metadata": {},
   "outputs": [],
   "source": [
    "s1,s2 = 'aabbc', 'abcab'\n",
    "is_valid(s1,s2)"
   ]
  },
  {
   "cell_type": "markdown",
   "id": "3dedc809-6ec6-40f1-8178-815701e904bf",
   "metadata": {},
   "source": [
    "Решение 3 не подходит по Memory Limit Exceeded на строках:"
   ]
  },
  {
   "cell_type": "code",
   "execution_count": null,
   "id": "316c350c-9055-4a21-8120-d45a8c605461",
   "metadata": {},
   "outputs": [],
   "source": [
    "s1 = \"ccabcbabcbabbbbcbb\"\n",
    "s2 = \"bbbbabccccbbbabcba\"\n",
    "is_valid(s1,s2)"
   ]
  },
  {
   "cell_type": "markdown",
   "id": "b68c5386-0f15-4c33-849c-124f2792d2c4",
   "metadata": {},
   "source": [
    "## Оптимизация решения 3"
   ]
  },
  {
   "cell_type": "markdown",
   "id": "376dc3f4-5206-4d2d-9e4c-edb7a6d96c3b",
   "metadata": {},
   "source": [
    "Надо оптимизировать алгоритм генерации вариантов индексов или решать эту проблему в другом ключе найдя более подходящее математическое обоснование. Буду оптимизировать решение 3, а в решении 4 пробовать решать по другому."
   ]
  },
  {
   "cell_type": "markdown",
   "id": "7867aac9-7f19-440a-8370-bbe199aebbbe",
   "metadata": {},
   "source": [
    "Оптимизация кода решения средствами python - убрал очевидные ошибки:\n",
    "1. Воспользовался генератором по назначению, а не раскрыл его в лист.\n",
    "2. Проверяю кажду комбинацию индексов на месте и не трачу память на хранение уже ненужных комбинаций."
   ]
  },
  {
   "cell_type": "code",
   "execution_count": null,
   "id": "101060c0-2bf7-4b0c-ae25-2551e5b16adc",
   "metadata": {},
   "outputs": [],
   "source": [
    "def check_all_index_variance(s1,s2):\n",
    "    letter = [*s1]\n",
    "    index_dict = dict(zip(letter, [list() for i in range(len(s1))]))# Делаю словарь вида буква - лист с индексами.\n",
    "    \n",
    "    for idx, item in enumerate(letter):# Заполняю индексами\n",
    "        index_dict[item].append(idx)\n",
    "        \n",
    "    res = it.product(*[it.permutations(v) for v in index_dict.values()])#Получаю все комбинации индексов, декартовым произведением перестановок букв.\n",
    "    \n",
    "    index_order = dict()# Нужен для map, что бы обращатся к нужному столбцу, res.\n",
    "    letter_curent_index = dict()# Нужен как счетчик текущего индекса для буквы\n",
    "    n = 0\n",
    "    for idx, item in enumerate(letter):\n",
    "        if item not in index_order.keys():\n",
    "            index_order[item] = n\n",
    "            letter_curent_index[item] = 0\n",
    "            n+=1\n",
    "    \n",
    "    for r in res:\n",
    "        tmp = letter_curent_index.copy()\n",
    "        tmp_s2 = list()\n",
    "        for l in [*s2]: \n",
    "            tmp_s2.append(r[index_order[l]][tmp[l]])\n",
    "            tmp[l]+=1\n",
    "        if not is_unavailable(tmp_s2):\n",
    "            return True\n",
    "        \n",
    "    return False"
   ]
  },
  {
   "cell_type": "markdown",
   "id": "5e4e1abd-62c0-4756-900b-2f00207bb624",
   "metadata": {},
   "source": [
    "Алгоритм сталкивается с лимитом по времени на тех же самых строчка, на которых не хватало памяти. (´･ᴗ･ )"
   ]
  },
  {
   "cell_type": "code",
   "execution_count": null,
   "id": "79c36ed4-a20b-4bbc-8b60-79f66881ef21",
   "metadata": {},
   "outputs": [],
   "source": [
    "s1 = \"ccabcbabcbabbbbcbb\"\n",
    "s2 = \"bbbbabccccbbbabcba\"\n",
    "is_valid(s1,s2)"
   ]
  },
  {
   "cell_type": "markdown",
   "id": "112b97b0-b361-4b85-9ccb-66f81a86f603",
   "metadata": {},
   "source": [
    "Предполагаю, что тут можно воспользоватся сокращением вида, если в обоих строках присутствует 'bbb' то можно сократить просто до 'b' интуитивно это понятно и связано с возможностью перестановки индексов между всеми b, но доказать строго не получается. Просто проверю это предположение тестами leetcode."
   ]
  },
  {
   "cell_type": "code",
   "execution_count": null,
   "id": "b88ede14",
   "metadata": {},
   "outputs": [],
   "source": [
    "s1,s2 = 'aabbc', 'bacab'\n",
    "check_all_index_variance(s1,s2)"
   ]
  },
  {
   "cell_type": "code",
   "execution_count": null,
   "id": "b3b6cdb6",
   "metadata": {},
   "outputs": [],
   "source": [
    "is_unavailable([0,3,4,1,2])"
   ]
  },
  {
   "cell_type": "markdown",
   "id": "fb2d26d0-3ef8-415f-8a2b-84fd9cd8273e",
   "metadata": {},
   "source": [
    "### Алгоритм сокращения одинаковых под паттернов в $S_1$ и $S_2$"
   ]
  },
  {
   "cell_type": "markdown",
   "id": "23090ef4-65cd-442b-8fa0-a8c584de9b7b",
   "metadata": {},
   "source": [
    "Буду сокращать по порядку убывания длинны подстроки, чтобы самые длинные убрали самых длинных. Максимально сокращая кол-во комбинаций."
   ]
  },
  {
   "cell_type": "markdown",
   "id": "876c2904-c538-448a-9165-2b25d371fe66",
   "metadata": {},
   "source": [
    "После небольших вычислений на бумаге понял, что задача сводится к упрощению строки вида $bcbcbccadb -> bcadb$. Все еще двигаюсь по этому пути без строгих доказательств. В упрощении тоже возникают вариации, когда во второй строке есть выбор какое вхождение паттерна сокращать."
   ]
  },
  {
   "cell_type": "code",
   "execution_count": null,
   "id": "c72c6289-d875-451c-b419-cfb51551402b",
   "metadata": {},
   "outputs": [],
   "source": [
    "s1 = 'aacbabacae'\n",
    "s2 = 'aacbaabace'\n",
    "is_valid(s1,s2)"
   ]
  },
  {
   "cell_type": "markdown",
   "id": "7fc31f02",
   "metadata": {},
   "source": [
    "Функция отбирает подстроки из уникальных символов, которые могут встречатся как под паттерн."
   ]
  },
  {
   "cell_type": "code",
   "execution_count": null,
   "id": "b75e059d",
   "metadata": {},
   "outputs": [],
   "source": [
    "def get_subs(s1):\n",
    "    subs = list()\n",
    "    tmp = ''\n",
    "    for c in [*s1]:\n",
    "        if c not in tmp:\n",
    "            subs.append(tmp)\n",
    "            tmp+=c\n",
    "        else:\n",
    "            subs.append(tmp)\n",
    "            tmp = tmp[tmp.find(c)+1:] + c\n",
    "    if '' in subs: subs.remove('')\n",
    "    return set(subs)"
   ]
  },
  {
   "cell_type": "code",
   "execution_count": null,
   "id": "18873109",
   "metadata": {
    "scrolled": true
   },
   "outputs": [],
   "source": [
    "get_subs(s1)"
   ]
  },
  {
   "cell_type": "markdown",
   "id": "431a6ad8",
   "metadata": {},
   "source": [
    "Функция упрощения строк на основе поиска повторяющихся паттернов. Делает один шаг упрощения."
   ]
  },
  {
   "cell_type": "code",
   "execution_count": null,
   "id": "62d5dd93-2b52-4a3d-8160-c1d9d7bdcbd1",
   "metadata": {},
   "outputs": [],
   "source": [
    "s1 = 'aacbabacae'\n",
    "s2 = 'aacbaabace'\n",
    "\n",
    "\n",
    "def simplify(s_pairs):\n",
    "    simp_strings = list()\n",
    "    subs = get_subs(s_pairs[0][0])\n",
    "    for pair in s_pairs:\n",
    "        s1 = pair[0]\n",
    "        s2 = pair[1]\n",
    "        for s in subs:\n",
    "            for n in range(len(s1)//len(s),1,-1):\n",
    "                if (s*n in s1 and s*n in s2):\n",
    "                    for pos_comb in it.product(re.finditer(s*n, s1), re.finditer(s*n, s2)):\n",
    "                        simp_strings.append((s1[:pos_comb[0].start()] + s1[pos_comb[0].start():].replace(s*n,s,1),\n",
    "                                             s2[:pos_comb[1].start()] + s2[pos_comb[1].start():].replace(s*n,s,1)))\n",
    "    return simp_strings"
   ]
  },
  {
   "cell_type": "code",
   "execution_count": null,
   "id": "4ac6c32c-88cf-48c0-887c-a797df7e1a68",
   "metadata": {},
   "outputs": [],
   "source": [
    "tmp = simplify([(s1,s2)])"
   ]
  },
  {
   "cell_type": "code",
   "execution_count": null,
   "id": "3a06781f-7299-48ce-b226-31de2abd78f5",
   "metadata": {},
   "outputs": [],
   "source": [
    "tmp"
   ]
  },
  {
   "cell_type": "code",
   "execution_count": null,
   "id": "3879b896-08cd-44bc-b7ba-0f81e4057fe8",
   "metadata": {
    "scrolled": true
   },
   "outputs": [],
   "source": [
    "tmp2 =simplify(tmp)"
   ]
  },
  {
   "cell_type": "code",
   "execution_count": null,
   "id": "b655d5a8-2202-4c9e-802a-f0dcae2d4812",
   "metadata": {
    "scrolled": true
   },
   "outputs": [],
   "source": [
    "simplify(tmp2)"
   ]
  },
  {
   "cell_type": "markdown",
   "id": "66fcf160",
   "metadata": {},
   "source": [
    "### Код решения для leetcode"
   ]
  },
  {
   "cell_type": "code",
   "execution_count": 21,
   "id": "887c60a4",
   "metadata": {},
   "outputs": [],
   "source": [
    "# Основные функции\n",
    "def is_valid(s1,s2):\n",
    "    return collections.Counter(s1) == collections.Counter(s2)\n",
    "\n",
    "\n",
    "def is_unavailable(s):\n",
    "    n=len(s)\n",
    "    for i in range(n):\n",
    "        if s[i] - 1 > 0: #Есть раcстояние для i1, i0\n",
    "            for j in range(i+1,n):\n",
    "                if s[i] - s[j] > 1: # Есть раcстояние для  i3\n",
    "                    for k in range(j+1,n):\n",
    "                        if s[k] > s[i]: # i2 Больше i0.\n",
    "                            for h in range(k+1,n):\n",
    "                                if s[h] > s[j] and s[h] < s[i]: # i3 > i1\n",
    "                                    return True # Одного такого паттерна достаточно, что вся комбинация оказалась недостижима  \n",
    "    s.reverse()\n",
    "    for i in range(n):\n",
    "        if s[i] - 1 > 0: #Есть раcстояние для i1, i0\n",
    "            for j in range(i+1,n):\n",
    "                if s[i] - s[j] > 1: # Есть раcстояние для  i3\n",
    "                    for k in range(j+1,n):\n",
    "                        if s[k] > s[i]: # i2 Больше i0.\n",
    "                            for h in range(k+1,n):\n",
    "                                if s[h] > s[j] and s[h] < s[i]: # i3 > i1\n",
    "                                    return True # Одного такого паттерна достаточно, что вся комбинация оказалась недостижима \n",
    "    return False\n",
    "\n",
    "\n",
    "def solve_all_index_variance(s1,s2):\n",
    "    letter = [*s1]\n",
    "    index_dict = dict(zip(letter, [list() for i in range(len(s1))]))# Делаю словарь вида буква - лист с индексами.\n",
    "    \n",
    "    for idx, item in enumerate(letter):# Заполняю индексами\n",
    "        index_dict[item].append(idx)\n",
    "        \n",
    "    res = it.product(*[it.permutations(v) for v in index_dict.values()])#Получаю все комбинации индексов, декартовым произведением перестановок букв.\n",
    "    \n",
    "    index_order = dict()# Нужен для map, что бы обращатся к нужному столбцу, res.\n",
    "    letter_curent_index = dict()# Нужен как счетчик текущего индекса для буквы\n",
    "    n = 0\n",
    "    for idx, item in enumerate(letter):\n",
    "        if item not in index_order.keys():\n",
    "            index_order[item] = n\n",
    "            letter_curent_index[item] = 0\n",
    "            n+=1\n",
    "    \n",
    "    for r in res:\n",
    "        tmp = letter_curent_index.copy()\n",
    "        tmp_s2 = list()\n",
    "        for l in [*s2]: \n",
    "            tmp_s2.append(r[index_order[l]][tmp[l]])\n",
    "            tmp[l]+=1\n",
    "        if not is_unavailable(tmp_s2):\n",
    "            return True\n",
    "        \n",
    "    return False\n",
    "\n",
    "\n",
    "def get_subs(s1):\n",
    "    subs = list()\n",
    "    tmp = ''\n",
    "    for c in [*s1]:\n",
    "        if c not in tmp:\n",
    "            subs.append(tmp)\n",
    "            tmp+=c\n",
    "        else:\n",
    "            subs.append(tmp)\n",
    "            tmp = tmp[tmp.find(c)+1:] + c\n",
    "    if '' in subs: subs.remove('')\n",
    "    return set(subs)\n",
    "\n",
    "\n",
    "def simplify(s_pairs):\n",
    "    simp_strings = list()\n",
    "\n",
    "    for pair in s_pairs:    \n",
    "        s1 = pair[0]\n",
    "        s2 = pair[1]\n",
    "        subs = get_subs(s1)\n",
    "        for s in subs:\n",
    "            for n in range(len(s1)//len(s),1,-1):\n",
    "                if (s*n in s1 and s*n in s2):\n",
    "                    for pos_comb in it.product(re.finditer(s*n, s1), re.finditer(s*n, s2)):\n",
    "                        simp_strings.append((s1[:pos_comb[0].start()] + s1[pos_comb[0].start():].replace(s*n,s,1),\n",
    "                                             s2[:pos_comb[1].start()] + s2[pos_comb[1].start():].replace(s*n,s,1)))\n",
    "    return simp_strings\n",
    "\n",
    "\n",
    "\n",
    "# Решение\n",
    "\n",
    "\n",
    "def solve(s1,s2):\n",
    "\n",
    "    if not is_valid(s1,s2):\n",
    "        return False\n",
    "\n",
    "    step = simplify([(s1,s2)])\n",
    "    res = [(s1,s2)]\n",
    "    while len(step):\n",
    "        res = step\n",
    "        step = simplify(step)\n",
    "        \n",
    "    for pair in res:\n",
    "        if not solve_all_index_variance(pair[0], pair[1]):\n",
    "            return False\n",
    "    \n",
    "    return True"
   ]
  },
  {
   "cell_type": "code",
   "execution_count": 22,
   "id": "8ae9df68",
   "metadata": {},
   "outputs": [],
   "source": [
    "s1,s2 = 'aabbc', 'bacab'"
   ]
  },
  {
   "cell_type": "code",
   "execution_count": 23,
   "id": "166dbcd5",
   "metadata": {},
   "outputs": [
    {
     "data": {
      "text/plain": [
       "True"
      ]
     },
     "execution_count": 23,
     "metadata": {},
     "output_type": "execute_result"
    }
   ],
   "source": [
    "is_valid(s1,s2)"
   ]
  },
  {
   "cell_type": "code",
   "execution_count": 24,
   "id": "562494a7",
   "metadata": {},
   "outputs": [
    {
     "data": {
      "text/plain": [
       "False"
      ]
     },
     "execution_count": 24,
     "metadata": {},
     "output_type": "execute_result"
    }
   ],
   "source": [
    "solve_all_index_variance(s1,s2)"
   ]
  },
  {
   "cell_type": "code",
   "execution_count": 25,
   "id": "11c97e6e",
   "metadata": {
    "scrolled": true
   },
   "outputs": [
    {
     "data": {
      "text/plain": [
       "False"
      ]
     },
     "execution_count": 25,
     "metadata": {},
     "output_type": "execute_result"
    }
   ],
   "source": [
    "solve(s1,s2)"
   ]
  },
  {
   "cell_type": "code",
   "execution_count": 26,
   "id": "7c1fb268",
   "metadata": {},
   "outputs": [
    {
     "data": {
      "text/plain": [
       "True"
      ]
     },
     "execution_count": 26,
     "metadata": {},
     "output_type": "execute_result"
    }
   ],
   "source": [
    "s1 = \"ccabcbabcbabbbbcbb\"\n",
    "s2 = \"bbbbabccccbbbabcba\"\n",
    "solve(s1,s2)"
   ]
  },
  {
   "cell_type": "markdown",
   "id": "62907214",
   "metadata": {},
   "source": [
    "Алгоритм упрощения не проходит тест, модель была неверной, возможно позже вернусь и реализую подобное решение. Без подобной оптимизации решение 3 тупиковое по производительности. Пока перехожу к 4 варианту решения он наиболее перспективный."
   ]
  },
  {
   "cell_type": "markdown",
   "id": "b63636d7",
   "metadata": {},
   "source": [
    "## Решение 4 Через сравнение срезов $S_1$ и $S_2$"
   ]
  },
  {
   "cell_type": "markdown",
   "id": "c8688860",
   "metadata": {},
   "source": [
    "Чтобы существовало преобразование вида  $ccabcbabcbabbbbcbb <-> bbbbabccccbbbabcba$, должен существовать хотя бы один такой срез вида $ccabcbab|_ncbabbbbcbb <-> bbbbabcc|_ncc|_{-n}bbbabcba$, что в обоих строках $S_1$, $S_2$  было одинаковое кол-во каждой буквы в соответствующих подстроках образованных срезом и далее по рекурсии для каждой подстроки полученной срезом, проверяется такое же условие как для строк. Такое решение выглядит наиболее оптимальным, во первых глубина рекурсии будет менее 5, а по факту еще меньше т.к для длинны 4 решение уже очевидно это любые кроме $cadb$ и $bdac$."
   ]
  },
  {
   "cell_type": "markdown",
   "id": "aa7a2b4c",
   "metadata": {},
   "source": [
    "Сильная сторона этого решения в том, что с ростом размера строки, число недоступных комбинаций в общем случае растет быстрее чем число доступных."
   ]
  },
  {
   "cell_type": "markdown",
   "id": "ea176268",
   "metadata": {},
   "source": [
    "Функция для проверки символьного равенства строк."
   ]
  },
  {
   "cell_type": "code",
   "execution_count": 66,
   "id": "9f6e480e",
   "metadata": {},
   "outputs": [],
   "source": [
    "s1 = \"ccazbcbabcbaebbcbbefgddhladvbk\"\n",
    "s2 = \"bzbbabccccbbeabcddbaefghladvbk\""
   ]
  },
  {
   "cell_type": "code",
   "execution_count": 50,
   "id": "afeb732a",
   "metadata": {},
   "outputs": [
    {
     "name": "stdout",
     "output_type": "stream",
     "text": [
      "13.1 µs ± 60.1 ns per loop (mean ± std. dev. of 7 runs, 100,000 loops each)\n"
     ]
    }
   ],
   "source": [
    "%timeit np.prod([(ord(c) - 96) for c in [*s1]]) == np.prod([(ord(c) - 96) for c in [*s2]])"
   ]
  },
  {
   "cell_type": "code",
   "execution_count": 51,
   "id": "d173427e",
   "metadata": {},
   "outputs": [
    {
     "name": "stdout",
     "output_type": "stream",
     "text": [
      "3.01 µs ± 68.5 ns per loop (mean ± std. dev. of 7 runs, 100,000 loops each)\n"
     ]
    }
   ],
   "source": [
    "%timeit is_valid(s1,s2)"
   ]
  },
  {
   "cell_type": "code",
   "execution_count": 29,
   "id": "ecf07b34",
   "metadata": {},
   "outputs": [
    {
     "name": "stdout",
     "output_type": "stream",
     "text": [
      " \n",
      "Всего возможных комбинаций - 6402373705728000 \n",
      "Кол-во достижимых комбинаций - 2371010  \n",
      "\n",
      "Достижимые комбинации - слшиком длинный вывод \n",
      "Кол-во недостижимых комбинаций - 6402373703356990\n"
     ]
    }
   ],
   "source": [
    "#s1 = \"ccabcbabcbabbbbcbb\"\n",
    "#s2 = \"bbbbabccccbbbabcba\"\n",
    "\n",
    "#t = mtl(s1)\n",
    "#fn = ma.factorial(len(s1))\n",
    "#an = len(t)\n",
    "#\n",
    "#print(f' \\nВсего возможных комбинаций - {fn} \\nКол-во достижимых комбинаций - {an}  \\n\\nДостижимые комбинации - слшиком длинный вывод ')\n",
    "#print(f'Кол-во недостижимых комбинаций - {fn - an}')"
   ]
  },
  {
   "cell_type": "markdown",
   "id": "628ea37d",
   "metadata": {},
   "source": [
    "Прицип обхода срезов"
   ]
  },
  {
   "cell_type": "code",
   "execution_count": 101,
   "id": "9d414dc3",
   "metadata": {},
   "outputs": [
    {
     "name": "stdout",
     "output_type": "stream",
     "text": [
      "Step 1\n",
      "a <-> b and b <-> a\n",
      "a <-> a and b <-> b\n"
     ]
    }
   ],
   "source": [
    "s1, s2 = \"ab\", \"ba\"\n",
    "for n in range(1,len(s1)):\n",
    "    print(f\"Step {n}\")\n",
    "    if n <= len(s1)//2 +1:\n",
    "        print(f\"{s1[0:n]} <-> {s2[0:n]} and {s1[n:]} <-> {s2[n:]}\")\n",
    "        print(f\"{s1[0:n]} <-> {s2[len(s2) - n:]} and {s1[n:]} <-> {s2[0: len(s2) - n]}\")\n",
    "    else:\n",
    "        print(f\"{s1[n:]} <-> {s2[n:]} and {s1[0:n]} <-> {s2[0:n]}\")\n",
    "        print(f\"{s1[n:]} <-> {s2[0:len(s2) - n]} and {s1[0:n]} <-> {s2[l - n:]}\")"
   ]
  },
  {
   "cell_type": "code",
   "execution_count": 102,
   "id": "daef8aa3",
   "metadata": {},
   "outputs": [],
   "source": [
    "def check_slice(s1:str,s2:str)->bool:\n",
    "    if s1 == s2:\n",
    "        return True\n",
    "    print(s1, s2)\n",
    "    l = len(s1)\n",
    "    if l == 2 and s1 == s2[-1:]:\n",
    "        return True\n",
    "    for n in range(1,l):\n",
    "        if n <= l//2 + 1:\n",
    "            if is_valid(s1[0:n],s2[0:n]):\n",
    "                if check_slice(s1[0:n],s2[0:n]) and check_slice(s1[n:],s2[n:]):\n",
    "                    return True\n",
    "            if is_valid(s1[0:n], s2[l - n:]):\n",
    "                if check_slice(s1[0:n], s2[l - n:]) and check_slice(s1[n:], s2[0:len(s2) - n]):\n",
    "                    return True\n",
    "        else:\n",
    "            if is_valid(s1[n:],s2[n:]):\n",
    "                if check_slice(s1[n:],s2[n:]) and check_slice(s1[0:n], s2[0:n]):\n",
    "                    return True\n",
    "            if is_valid(s1[n:], s2[0:l - n]):\n",
    "                if check_slice(s1[n:],s2[0:l - n]) and check_slice(s1[0:n], s2[l - n:]):\n",
    "                    return True\n",
    "    \n",
    "    return False"
   ]
  },
  {
   "cell_type": "code",
   "execution_count": 103,
   "id": "90f49c60",
   "metadata": {},
   "outputs": [
    {
     "name": "stdout",
     "output_type": "stream",
     "text": [
      "great rgeat\n",
      "gr rg\n"
     ]
    },
    {
     "data": {
      "text/plain": [
       "True"
      ]
     },
     "execution_count": 103,
     "metadata": {},
     "output_type": "execute_result"
    }
   ],
   "source": [
    "#s1, s2 = \"bzbbabccccbbeabcddbaefghladvbk\", \"ccazbcbabcbaebbcbbefgddhladvbk\"\n",
    "#s1,s2 = 'abcd','abdc'\n",
    "\n",
    "s1,s2 = \"great\",\"rgeat\"\n",
    "check_slice(s1,s2)"
   ]
  },
  {
   "cell_type": "markdown",
   "id": "e63728c7",
   "metadata": {},
   "source": [
    "### Код решения для leetcode"
   ]
  },
  {
   "cell_type": "code",
   "execution_count": 129,
   "id": "86316b5b",
   "metadata": {},
   "outputs": [],
   "source": [
    "import itertools as it\n",
    "import collections \n",
    "\n",
    "class Solution:\n",
    "    def isScramble(self, s1: str, s2: str) -> bool:\n",
    "        \n",
    "        def is_valid(s1:str,s2:str) -> bool:\n",
    "            return collections.Counter(s1) == collections.Counter(s2)\n",
    "        \n",
    "        def check_slice(s1:str,s2:str)->bool:\n",
    "            if s1 == s2:\n",
    "                return True\n",
    "            #print(s1, s2)\n",
    "            l = len(s1)\n",
    "            \n",
    "            for n in range(1,l):\n",
    "                if n <= l//2 + 1:\n",
    "                    if is_valid(s1[0:n],s2[0:n]):\n",
    "                        if check_slice(s1[0:n],s2[0:n]) and check_slice(s1[n:],s2[n:]):\n",
    "                            return True\n",
    "                    if is_valid(s1[0:n], s2[l - n:]):\n",
    "                        if check_slice(s1[0:n], s2[l - n:]) and check_slice(s1[n:], s2[0:len(s2) - n]):\n",
    "                            return True\n",
    "                else:\n",
    "                    if is_valid(s1[n:],s2[n:]):\n",
    "                        if check_slice(s1[n:],s2[n:]) and check_slice(s1[0:n], s2[0:n]):\n",
    "                            return True\n",
    "                    if is_valid(s1[n:], s2[0:l - n]):\n",
    "                        if check_slice(s1[n:],s2[0:l - n]) and check_slice(s1[0:n], s2[l - n:]):\n",
    "                            return True\n",
    "            \n",
    "            return False\n",
    "        \n",
    "        if not is_valid(s1,s2):\n",
    "            return False\n",
    "        \n",
    "        return check_slice(s1,s2)"
   ]
  },
  {
   "cell_type": "code",
   "execution_count": 132,
   "id": "28ee9eff",
   "metadata": {},
   "outputs": [],
   "source": [
    "s1,s2 = \"bzbbabccccbbeabcddbaefghladvbk\", \"ccazbcbabcbaebbcbbefgddhladvbk\"\n",
    "#s1,s2 = 'abcd','abdc'\n",
    "#s1,s2 = \"abc\",\"cab\"\n",
    "#s1,s2 = \"ccabcbabcbabbbbcbb\", \"bbbbabccccbbbabcba\"\n",
    "#s1, s2 = \"abc\", \"bca\"\n",
    "#s1,s2 = \"great\",\"rgeat\"\n",
    "\n",
    "#s1,s2 = \"eebaacbcbcadaaedceaaacadccd\" ,\"eadcaacabaddaceacbceaabeccd\" #286/288"
   ]
  },
  {
   "cell_type": "code",
   "execution_count": 133,
   "id": "3e0964bb",
   "metadata": {},
   "outputs": [
    {
     "data": {
      "text/plain": [
       "False"
      ]
     },
     "execution_count": 133,
     "metadata": {},
     "output_type": "execute_result"
    }
   ],
   "source": [
    "S = Solution()\n",
    "S.isScramble(s1,s2)"
   ]
  }
 ],
 "metadata": {
  "kernelspec": {
   "display_name": "Python 3 (ipykernel)",
   "language": "python",
   "name": "python3"
  },
  "language_info": {
   "codemirror_mode": {
    "name": "ipython",
    "version": 3
   },
   "file_extension": ".py",
   "mimetype": "text/x-python",
   "name": "python",
   "nbconvert_exporter": "python",
   "pygments_lexer": "ipython3",
   "version": "3.9.12"
  }
 },
 "nbformat": 4,
 "nbformat_minor": 5
}
