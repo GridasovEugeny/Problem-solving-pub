{
 "cells": [
  {
   "cell_type": "code",
   "execution_count": 66,
   "id": "210dc16b",
   "metadata": {},
   "outputs": [],
   "source": [
    "import sys\n",
    "import math "
   ]
  },
  {
   "cell_type": "code",
   "execution_count": 67,
   "id": "cdee267d",
   "metadata": {},
   "outputs": [],
   "source": [
    "class ListNode:\n",
    "    def __init__(self, val=0, next=None):\n",
    "        self.val = val\n",
    "        self.next = next"
   ]
  },
  {
   "cell_type": "code",
   "execution_count": 68,
   "id": "0f9b40d3",
   "metadata": {},
   "outputs": [],
   "source": [
    "head = ListNode(0, None)"
   ]
  },
  {
   "cell_type": "code",
   "execution_count": 69,
   "id": "49d33c67",
   "metadata": {},
   "outputs": [],
   "source": [
    "cur = head\n",
    "for i in range(1,30):\n",
    "    cur.next = ListNode(i, None)\n",
    "    cur = cur.next"
   ]
  },
  {
   "cell_type": "code",
   "execution_count": 80,
   "id": "5bf3f9f0",
   "metadata": {},
   "outputs": [],
   "source": [
    "cur = head\n",
    "counter = 1\n",
    "tmp = [head,]\n",
    "while cur.next != None:\n",
    "    cur = cur.next\n",
    "    tmp.append(cur)\n",
    "    if counter%2 != 0:\n",
    "        del tmp[0]\n",
    "    counter += 1"
   ]
  },
  {
   "cell_type": "code",
   "execution_count": 77,
   "id": "a7e7704a",
   "metadata": {},
   "outputs": [
    {
     "data": {
      "text/plain": [
       "15"
      ]
     },
     "execution_count": 77,
     "metadata": {},
     "output_type": "execute_result"
    }
   ],
   "source": [
    "tmp[0].val"
   ]
  },
  {
   "cell_type": "code",
   "execution_count": 78,
   "id": "cc5a65f8",
   "metadata": {},
   "outputs": [],
   "source": [
    "cur = head\n",
    "mid = head\n",
    "counter = 1\n",
    "mid_counter = 1\n",
    "while cur.next != None:\n",
    "    cur = cur.next\n",
    "    counter += 1\n",
    "    if (counter//2 + 1) > mid_counter:\n",
    "        mid = mid.next\n",
    "        mid_counter += 1"
   ]
  },
  {
   "cell_type": "code",
   "execution_count": 79,
   "id": "e40bf716",
   "metadata": {},
   "outputs": [
    {
     "data": {
      "text/plain": [
       "15"
      ]
     },
     "execution_count": 79,
     "metadata": {},
     "output_type": "execute_result"
    }
   ],
   "source": [
    "mid.val"
   ]
  },
  {
   "cell_type": "code",
   "execution_count": 88,
   "id": "d6edb30c",
   "metadata": {},
   "outputs": [],
   "source": [
    "one_step = head\n",
    "two_step = head\n",
    "while two_step and two_step.next:\n",
    "    one_step = one_step.next\n",
    "    two_step = two_step.next.next"
   ]
  },
  {
   "cell_type": "code",
   "execution_count": 89,
   "id": "1d32035e",
   "metadata": {},
   "outputs": [
    {
     "data": {
      "text/plain": [
       "15"
      ]
     },
     "execution_count": 89,
     "metadata": {},
     "output_type": "execute_result"
    }
   ],
   "source": [
    "one_step.val"
   ]
  }
 ],
 "metadata": {
  "kernelspec": {
   "display_name": "Python 3 (ipykernel)",
   "language": "python",
   "name": "python3"
  },
  "language_info": {
   "codemirror_mode": {
    "name": "ipython",
    "version": 3
   },
   "file_extension": ".py",
   "mimetype": "text/x-python",
   "name": "python",
   "nbconvert_exporter": "python",
   "pygments_lexer": "ipython3",
   "version": "3.9.12"
  }
 },
 "nbformat": 4,
 "nbformat_minor": 5
}
